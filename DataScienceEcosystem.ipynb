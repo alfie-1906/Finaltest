{
 "cells": [
  {
   "cell_type": "markdown",
   "id": "023d60dc-0c9e-4778-8f89-88665754afc1",
   "metadata": {},
   "source": [
    "# Data Science Tools and Ecosystem"
   ]
  },
  {
   "cell_type": "markdown",
   "id": "de77cd28-8ad0-4226-bf53-3e408734a0c8",
   "metadata": {},
   "source": [
    "In this notebook, Data Science Tools and Ecosystem are summarized."
   ]
  },
  {
   "cell_type": "markdown",
   "id": "2beaaac6-5527-4399-97a4-0f931050b7ad",
   "metadata": {},
   "source": [
    "**Objectives**\n",
    "- Popular languages used among Data Scientists\n",
    "- Commonly used libraries used by Data Scientists\n",
    "- Commonly used Data Science Tools\n",
    "- Examples of Arithmetic expressions in Python"
   ]
  },
  {
   "cell_type": "markdown",
   "id": "25fcb9f8-c1ad-444b-bd04-ef1095d017ba",
   "metadata": {},
   "source": [
    "Some of the popular languages that Data Scientists use are:\n",
    "1. JavaScript\n",
    "2. Python\n",
    "3. SQL\n",
    "4. C++\n"
   ]
  },
  {
   "cell_type": "markdown",
   "id": "343b7bbb-8610-4767-a0a8-8e71fa5dcf2f",
   "metadata": {},
   "source": [
    "Some of the commonly used libraries used by Data Scientist include:\n",
    "1. Pandas\n",
    "2. Numpy\n",
    "3. MatPlotlib"
   ]
  },
  {
   "cell_type": "markdown",
   "id": "fed398e4-7d62-41a4-897e-319e5365591d",
   "metadata": {
    "tags": []
   },
   "source": [
    "|Data Science Tools|\n",
    "|--------------------|\n",
    "| RStudio |\n",
    "| Apache Spark |\n",
    "| TensorFlow |"
   ]
  },
  {
   "cell_type": "markdown",
   "id": "0105815d-75fd-4da3-8314-867c17921f74",
   "metadata": {},
   "source": [
    "### Below are a few examples of evaluating arithmetic expressions in Python."
   ]
  },
  {
   "cell_type": "code",
   "execution_count": 2,
   "id": "4a36de15-ad4d-4df7-b3d4-b2348f6d792a",
   "metadata": {
    "tags": []
   },
   "outputs": [
    {
     "data": {
      "text/plain": [
       "17"
      ]
     },
     "execution_count": 2,
     "metadata": {},
     "output_type": "execute_result"
    }
   ],
   "source": [
    "#This is a simple arithmetic expression to multiply and add integers.\n",
    "\n",
    "x = (3*4)+5\n",
    "x"
   ]
  },
  {
   "cell_type": "code",
   "execution_count": 6,
   "id": "16ca999b-09e7-4aac-8df3-0413a33d7135",
   "metadata": {
    "tags": []
   },
   "outputs": [
    {
     "data": {
      "text/plain": [
       "3"
      ]
     },
     "execution_count": 6,
     "metadata": {},
     "output_type": "execute_result"
    }
   ],
   "source": [
    "#This will convert 200 minutes into hours by dividing by 60.\n",
    "y = 200/60\n",
    "int(y)"
   ]
  },
  {
   "cell_type": "markdown",
   "id": "181eceb5-210e-427e-b982-ab12f47e1aac",
   "metadata": {},
   "source": [
    "## Author\n",
    "Chung Nguyen Huynh Khang"
   ]
  },
  {
   "cell_type": "code",
   "execution_count": null,
   "id": "bca685c1-195e-4c17-b378-2455b98c5962",
   "metadata": {},
   "outputs": [],
   "source": []
  }
 ],
 "metadata": {
  "kernelspec": {
   "display_name": "Python",
   "language": "python",
   "name": "conda-env-python-py"
  },
  "language_info": {
   "codemirror_mode": {
    "name": "ipython",
    "version": 3
   },
   "file_extension": ".py",
   "mimetype": "text/x-python",
   "name": "python",
   "nbconvert_exporter": "python",
   "pygments_lexer": "ipython3",
   "version": "3.7.12"
  }
 },
 "nbformat": 4,
 "nbformat_minor": 5
}
